{
 "cells": [
  {
   "cell_type": "markdown",
   "metadata": {},
   "source": [
    "## HW1 60205210 오민수"
   ]
  },
  {
   "cell_type": "markdown",
   "metadata": {},
   "source": [
    "### Github repository 연결"
   ]
  },
  {
   "cell_type": "code",
   "execution_count": 8,
   "metadata": {},
   "outputs": [
    {
     "data": {
      "text/html": [
       "<img src=\"1.png\" width=\"600\" height=\"325\"/>"
      ],
      "text/plain": [
       "<IPython.core.display.Image object>"
      ]
     },
     "execution_count": 8,
     "metadata": {},
     "output_type": "execute_result"
    }
   ],
   "source": [
    "from IPython.display import Image\n",
    "Image(url=\"1.png\", width=600, height=325)"
   ]
  },
  {
   "cell_type": "markdown",
   "metadata": {},
   "source": [
    "### 사용 IDE : VSCODE"
   ]
  },
  {
   "cell_type": "code",
   "execution_count": 10,
   "metadata": {},
   "outputs": [
    {
     "data": {
      "text/html": [
       "<img src=\"2.png\" width=\"720\" height=\"180\"/>"
      ],
      "text/plain": [
       "<IPython.core.display.Image object>"
      ]
     },
     "execution_count": 10,
     "metadata": {},
     "output_type": "execute_result"
    }
   ],
   "source": [
    "Image(url=\"2.png\", width=720, height=180)"
   ]
  },
  {
   "cell_type": "markdown",
   "metadata": {},
   "source": [
    "### 선형 리스트 생성 프로그램"
   ]
  },
  {
   "cell_type": "code",
   "execution_count": 13,
   "metadata": {},
   "outputs": [
    {
     "name": "stdout",
     "output_type": "stream",
     "text": [
      "1 2 3 중에서 골라주세요.\n",
      "1 2 3 중에서 골라주세요.\n"
     ]
    },
    {
     "ename": "KeyboardInterrupt",
     "evalue": "Interrupted by user",
     "output_type": "error",
     "traceback": [
      "\u001b[0;31m---------------------------------------------------------------------------\u001b[0m",
      "\u001b[0;31mKeyboardInterrupt\u001b[0m                         Traceback (most recent call last)",
      "\u001b[1;32m/Users/ominsu/MinsuO_Python_HW1-2/HW1.ipynb 셀 7\u001b[0m in \u001b[0;36m<cell line: 73>\u001b[0;34m()\u001b[0m\n\u001b[1;32m     <a href='vscode-notebook-cell:/Users/ominsu/MinsuO_Python_HW1-2/HW1.ipynb#W6sZmlsZQ%3D%3D?line=74'>75</a>\u001b[0m play \u001b[39m=\u001b[39m \u001b[39mTrue\u001b[39;00m\n\u001b[1;32m     <a href='vscode-notebook-cell:/Users/ominsu/MinsuO_Python_HW1-2/HW1.ipynb#W6sZmlsZQ%3D%3D?line=75'>76</a>\u001b[0m \u001b[39mwhile\u001b[39;00m(play \u001b[39m==\u001b[39m \u001b[39mTrue\u001b[39;00m):\n\u001b[0;32m---> <a href='vscode-notebook-cell:/Users/ominsu/MinsuO_Python_HW1-2/HW1.ipynb#W6sZmlsZQ%3D%3D?line=76'>77</a>\u001b[0m     select \u001b[39m=\u001b[39m (\u001b[39minput\u001b[39;49m(\u001b[39m\"\u001b[39;49m\u001b[39m선택하세요(1: 추가, 2: 삭제, 3: 종료)----->\u001b[39;49m\u001b[39m\"\u001b[39;49m))\n\u001b[1;32m     <a href='vscode-notebook-cell:/Users/ominsu/MinsuO_Python_HW1-2/HW1.ipynb#W6sZmlsZQ%3D%3D?line=77'>78</a>\u001b[0m     \u001b[39mif\u001b[39;00m select \u001b[39m==\u001b[39m \u001b[39m1\u001b[39m:\n\u001b[1;32m     <a href='vscode-notebook-cell:/Users/ominsu/MinsuO_Python_HW1-2/HW1.ipynb#W6sZmlsZQ%3D%3D?line=78'>79</a>\u001b[0m         add_data \u001b[39m=\u001b[39m \u001b[39meval\u001b[39m(\u001b[39minput\u001b[39m(\u001b[39m\"\u001b[39m\u001b[39m추가할 데이터 --> \u001b[39m\u001b[39m\"\u001b[39m))\n",
      "File \u001b[0;32m/Library/Frameworks/Python.framework/Versions/3.10/lib/python3.10/site-packages/ipykernel/kernelbase.py:1177\u001b[0m, in \u001b[0;36mKernel.raw_input\u001b[0;34m(self, prompt)\u001b[0m\n\u001b[1;32m   1173\u001b[0m \u001b[39mif\u001b[39;00m \u001b[39mnot\u001b[39;00m \u001b[39mself\u001b[39m\u001b[39m.\u001b[39m_allow_stdin:\n\u001b[1;32m   1174\u001b[0m     \u001b[39mraise\u001b[39;00m StdinNotImplementedError(\n\u001b[1;32m   1175\u001b[0m         \u001b[39m\"\u001b[39m\u001b[39mraw_input was called, but this frontend does not support input requests.\u001b[39m\u001b[39m\"\u001b[39m\n\u001b[1;32m   1176\u001b[0m     )\n\u001b[0;32m-> 1177\u001b[0m \u001b[39mreturn\u001b[39;00m \u001b[39mself\u001b[39;49m\u001b[39m.\u001b[39;49m_input_request(\n\u001b[1;32m   1178\u001b[0m     \u001b[39mstr\u001b[39;49m(prompt),\n\u001b[1;32m   1179\u001b[0m     \u001b[39mself\u001b[39;49m\u001b[39m.\u001b[39;49m_parent_ident[\u001b[39m\"\u001b[39;49m\u001b[39mshell\u001b[39;49m\u001b[39m\"\u001b[39;49m],\n\u001b[1;32m   1180\u001b[0m     \u001b[39mself\u001b[39;49m\u001b[39m.\u001b[39;49mget_parent(\u001b[39m\"\u001b[39;49m\u001b[39mshell\u001b[39;49m\u001b[39m\"\u001b[39;49m),\n\u001b[1;32m   1181\u001b[0m     password\u001b[39m=\u001b[39;49m\u001b[39mFalse\u001b[39;49;00m,\n\u001b[1;32m   1182\u001b[0m )\n",
      "File \u001b[0;32m/Library/Frameworks/Python.framework/Versions/3.10/lib/python3.10/site-packages/ipykernel/kernelbase.py:1219\u001b[0m, in \u001b[0;36mKernel._input_request\u001b[0;34m(self, prompt, ident, parent, password)\u001b[0m\n\u001b[1;32m   1216\u001b[0m             \u001b[39mbreak\u001b[39;00m\n\u001b[1;32m   1217\u001b[0m \u001b[39mexcept\u001b[39;00m \u001b[39mKeyboardInterrupt\u001b[39;00m:\n\u001b[1;32m   1218\u001b[0m     \u001b[39m# re-raise KeyboardInterrupt, to truncate traceback\u001b[39;00m\n\u001b[0;32m-> 1219\u001b[0m     \u001b[39mraise\u001b[39;00m \u001b[39mKeyboardInterrupt\u001b[39;00m(\u001b[39m\"\u001b[39m\u001b[39mInterrupted by user\u001b[39m\u001b[39m\"\u001b[39m) \u001b[39mfrom\u001b[39;00m \u001b[39mNone\u001b[39m\n\u001b[1;32m   1220\u001b[0m \u001b[39mexcept\u001b[39;00m \u001b[39mException\u001b[39;00m:\n\u001b[1;32m   1221\u001b[0m     \u001b[39mself\u001b[39m\u001b[39m.\u001b[39mlog\u001b[39m.\u001b[39mwarning(\u001b[39m\"\u001b[39m\u001b[39mInvalid Message:\u001b[39m\u001b[39m\"\u001b[39m, exc_info\u001b[39m=\u001b[39m\u001b[39mTrue\u001b[39;00m)\n",
      "\u001b[0;31mKeyboardInterrupt\u001b[0m: Interrupted by user"
     ]
    }
   ],
   "source": [
    "class Node():\n",
    "    def __init__(self):\n",
    "        self.data = None;\n",
    "        self.link = None;\n",
    "\n",
    "\n",
    "def printNodes(start):\n",
    "        current = start\n",
    "        if current == None :\n",
    "            return\n",
    "        print(current.data,end = ' ')\n",
    "        while current.link != None :\n",
    "            current = current.link\n",
    "            print(current.data,end = ' ')\n",
    "        print()\n",
    "\n",
    "def insertNode(insertData): #노드 삽입 함수\n",
    "    global memory,head,current,pre\n",
    "    \n",
    "    node=Node()\n",
    "    node.data=insertData\n",
    "    node.link=head\n",
    "    head=node\n",
    "    return\n",
    "    \n",
    "def deleteNode(deleteData): #노트 삭제 함수\n",
    "    global memory,head,current,pre\n",
    "    if head.data==deleteData:\n",
    "        current=head\n",
    "        head=head.link\n",
    "        del(current)\n",
    "        return\n",
    "    current=head\n",
    "    while current.link!=None:\n",
    "        pre=current\n",
    "        current=current.link\n",
    "        if current.data==deleteData:\n",
    "            pre.link=current.link\n",
    "            del(current)\n",
    "            return    \n",
    "\n",
    "\n",
    "def makeSimpleLinkedList(nameheight):\n",
    "    global memory,head,currnet,pre\n",
    "    printNodes(head)\n",
    "    node = Node()\n",
    "    node.data = nameheight\n",
    "    memory.append(node)\n",
    "    if head == None : #첫번째 노드 일 경우\n",
    "        head = node \n",
    "        return\n",
    "\n",
    "    if head.data[1] > nameheight[1]: #첫번째 노드보다 작을 경우 (두번째 데이터 비교)\n",
    "        node.link = head\n",
    "        head = node\n",
    "        return\n",
    "\n",
    "    current = head # 중간 노드에 넣는 경우\n",
    "    while current.link != None:\n",
    "        pre = current\n",
    "        current = current.link\n",
    "        if current.data[1] > nameheight[1]:\n",
    "            pre.link = node\n",
    "            node.link = current\n",
    "            return\n",
    "    \n",
    "    current.link = node # 삽입하는 노드가 가장 큰 경우\n",
    "\n",
    "memory = []\n",
    "head,current,pre = None,None,None\n",
    "dataArray = []\n",
    "\n",
    "if __name__ == \"__main__\":\n",
    "\n",
    "    play = True\n",
    "    while(play == True):\n",
    "        select = int(input(\"선택하세요(1: 추가, 2: 삭제, 3: 종료)----->\"))\n",
    "        if select == 1:\n",
    "            add_data = eval(input(\"추가할 데이터 --> \"))\n",
    "            insertNode(add_data)\n",
    "\n",
    "            for data in dataArray:\n",
    "                makeSimpleLinkedList(data)\n",
    "\n",
    "            printNodes(head)\n",
    "            \n",
    "        elif select == 2:\n",
    "            del_data = eval(input(\"삭제할 데이터 -->\"))\n",
    "            deleteNode(del_data)\n",
    "\n",
    "            for data in dataArray:\n",
    "                makeSimpleLinkedList(data)\n",
    "\n",
    "            printNodes(head)\n",
    "\n",
    "        elif select == 3:\n",
    "            print(\"프로그램을 종료합니다.\")\n",
    "            play = False\n",
    "        else :\n",
    "            print(\"1 2 3 중에서 골라주세요.\")    \n"
   ]
  }
 ],
 "metadata": {
  "kernelspec": {
   "display_name": "Python 3.10.6 64-bit",
   "language": "python",
   "name": "python3"
  },
  "language_info": {
   "codemirror_mode": {
    "name": "ipython",
    "version": 3
   },
   "file_extension": ".py",
   "mimetype": "text/x-python",
   "name": "python",
   "nbconvert_exporter": "python",
   "pygments_lexer": "ipython3",
   "version": "3.10.6"
  },
  "orig_nbformat": 4,
  "vscode": {
   "interpreter": {
    "hash": "aee8b7b246df8f9039afb4144a1f6fd8d2ca17a180786b69acc140d282b71a49"
   }
  }
 },
 "nbformat": 4,
 "nbformat_minor": 2
}
