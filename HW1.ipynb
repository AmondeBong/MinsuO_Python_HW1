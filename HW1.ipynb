{
 "cells": [
  {
   "cell_type": "markdown",
   "metadata": {},
   "source": [
    "## HW1 60205210 오민수"
   ]
  },
  {
   "cell_type": "markdown",
   "metadata": {},
   "source": [
    "### Github repository 연결"
   ]
  },
  {
   "cell_type": "code",
   "execution_count": 15,
   "metadata": {},
   "outputs": [
    {
     "data": {
      "text/html": [
       "<img src=\"3.png\" width=\"600\" height=\"325\"/>"
      ],
      "text/plain": [
       "<IPython.core.display.Image object>"
      ]
     },
     "execution_count": 15,
     "metadata": {},
     "output_type": "execute_result"
    }
   ],
   "source": [
    "from IPython.display import Image\n",
    "Image(url=\"3.png\", width=600, height=325)"
   ]
  },
  {
   "cell_type": "markdown",
   "metadata": {},
   "source": [
    "### 사용 IDE : VSCODE"
   ]
  },
  {
   "cell_type": "code",
   "execution_count": 10,
   "metadata": {},
   "outputs": [
    {
     "data": {
      "text/html": [
       "<img src=\"2.png\" width=\"720\" height=\"180\"/>"
      ],
      "text/plain": [
       "<IPython.core.display.Image object>"
      ]
     },
     "execution_count": 10,
     "metadata": {},
     "output_type": "execute_result"
    }
   ],
   "source": [
    "Image(url=\"2.png\", width=720, height=180)"
   ]
  },
  {
   "cell_type": "markdown",
   "metadata": {},
   "source": [
    "### 선형 리스트 생성 프로그램"
   ]
  },
  {
   "cell_type": "code",
   "execution_count": 14,
   "metadata": {},
   "outputs": [
    {
     "name": "stdout",
     "output_type": "stream",
     "text": [
      "('다현', 200) \n",
      "('쯔위', 90) ('다현', 200) \n",
      "('사나', 30) ('쯔위', 90) ('다현', 200) \n",
      "('정연', 150) ('사나', 30) ('쯔위', 90) ('다현', 200) \n",
      "('지효', 15) ('정연', 150) ('사나', 30) ('쯔위', 90) ('다현', 200) \n",
      "('지효', 15) ('정연', 150) ('쯔위', 90) ('다현', 200) \n",
      "프로그램을 종료합니다.\n"
     ]
    }
   ],
   "source": [
    "class Node():\n",
    "    def __init__(self):\n",
    "        self.data = None;\n",
    "        self.link = None;\n",
    "\n",
    "\n",
    "def printNodes(start):\n",
    "        current = start\n",
    "        if current == None :\n",
    "            return\n",
    "        print(current.data,end = ' ')\n",
    "        while current.link != None :\n",
    "            current = current.link\n",
    "            print(current.data,end = ' ')\n",
    "        print()\n",
    "\n",
    "def insertNode(insertData): #노드 삽입 함수\n",
    "    global memory,head,current,pre\n",
    "    \n",
    "    node=Node()\n",
    "    node.data=insertData\n",
    "    node.link=head\n",
    "    head=node\n",
    "    return\n",
    "    \n",
    "def deleteNode(deleteData): #노트 삭제 함수\n",
    "    global memory,head,current,pre\n",
    "    if head.data==deleteData:\n",
    "        current=head\n",
    "        head=head.link\n",
    "        del(current)\n",
    "        return\n",
    "    current=head\n",
    "    while current.link!=None:\n",
    "        pre=current\n",
    "        current=current.link\n",
    "        if current.data==deleteData:\n",
    "            pre.link=current.link\n",
    "            del(current)\n",
    "            return    \n",
    "\n",
    "\n",
    "def makeSimpleLinkedList(nameheight):\n",
    "    global memory,head,currnet,pre\n",
    "    printNodes(head)\n",
    "    node = Node()\n",
    "    node.data = nameheight\n",
    "    memory.append(node)\n",
    "    if head == None : #첫번째 노드 일 경우\n",
    "        head = node \n",
    "        return\n",
    "\n",
    "    if head.data[1] > nameheight[1]: #첫번째 노드보다 작을 경우 (두번째 데이터 비교)\n",
    "        node.link = head\n",
    "        head = node\n",
    "        return\n",
    "\n",
    "    current = head # 중간 노드에 넣는 경우\n",
    "    while current.link != None:\n",
    "        pre = current\n",
    "        current = current.link\n",
    "        if current.data[1] > nameheight[1]:\n",
    "            pre.link = node\n",
    "            node.link = current\n",
    "            return\n",
    "    \n",
    "    current.link = node # 삽입하는 노드가 가장 큰 경우\n",
    "\n",
    "memory = []\n",
    "head,current,pre = None,None,None\n",
    "dataArray = []\n",
    "\n",
    "if __name__ == \"__main__\":\n",
    "\n",
    "    play = True\n",
    "    while(play == True):\n",
    "        select = int(input(\"선택하세요(1: 추가, 2: 삭제, 3: 종료)----->\"))\n",
    "        if select == 1:\n",
    "            add_data = eval(input(\"추가할 데이터 --> \"))\n",
    "            insertNode(add_data)\n",
    "\n",
    "            for data in dataArray:\n",
    "                makeSimpleLinkedList(data)\n",
    "\n",
    "            printNodes(head)\n",
    "            \n",
    "        elif select == 2:\n",
    "            del_data = eval(input(\"삭제할 데이터 -->\"))\n",
    "            deleteNode(del_data)\n",
    "\n",
    "            for data in dataArray:\n",
    "                makeSimpleLinkedList(data)\n",
    "\n",
    "            printNodes(head)\n",
    "\n",
    "        elif select == 3:\n",
    "            print(\"프로그램을 종료합니다.\")\n",
    "            play = False\n",
    "        else :\n",
    "            print(\"1 2 3 중에서 골라주세요.\")    \n"
   ]
  }
 ],
 "metadata": {
  "kernelspec": {
   "display_name": "Python 3.10.6 64-bit",
   "language": "python",
   "name": "python3"
  },
  "language_info": {
   "codemirror_mode": {
    "name": "ipython",
    "version": 3
   },
   "file_extension": ".py",
   "mimetype": "text/x-python",
   "name": "python",
   "nbconvert_exporter": "python",
   "pygments_lexer": "ipython3",
   "version": "3.10.6"
  },
  "orig_nbformat": 4,
  "vscode": {
   "interpreter": {
    "hash": "aee8b7b246df8f9039afb4144a1f6fd8d2ca17a180786b69acc140d282b71a49"
   }
  }
 },
 "nbformat": 4,
 "nbformat_minor": 2
}
